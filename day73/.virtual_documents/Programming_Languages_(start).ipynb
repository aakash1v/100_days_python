





import pandas as pd
import matplotlib.pyplot as plt








df = pd.read_csv('QueryResults.csv', names=['DATE', 'TAG', 'POSTS'], header=0)





df.tail()





df.shape





df.count()





df[['TAG', 'POSTS']].groupby('TAG').sum().sort_values('POSTS', ascending=False)





df.groupby('TAG').count()





df.DATE[0]


type(df.DATE[1])


print(pd.to_datetime(df.DATE[1]))


print(type(pd.to_datetime(df.DATE[3])))


#converting entire column
df.DATE = pd.to_datetime(df.DATE)


df.head()








test_df = pd.DataFrame({'Age': ['Young', 'Young', 'Young', 'Young', 'Old', 'Old', 'Old', 'Old'],
                        'Actor': ['Jack', 'Arnold', 'Keanu', 'Sylvester', 'Jack', 'Arnold', 'Keanu', 'Sylvester'],
                        'Power': [100, 80, 25, 50, 99, 75, 5, 30]})


test_df


pivoted_df = test_df.pivot(index='Age', columns='Actor', values='Power')
pivoted_df








reshaped_df = df.pivot(index='DATE', columns='TAG', values='POSTS')
reshaped_df


reshaped_df.shape


reshaped_df.tail()


reshaped_df.columns








reshaped_df.count()


reshaped_df.fillna(0, inplace=True)


reshaped_df.head()


reshaped_df.isna().values.any()












plt.plot(reshaped_df.index, reshaped_df['java'])


plt.figure(figsize=(10,8)) 
plt.plot(reshaped_df.index, reshaped_df.java)








































