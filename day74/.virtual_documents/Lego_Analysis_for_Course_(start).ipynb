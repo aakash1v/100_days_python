





import pandas as pd
import matplotlib.pyplot as plt








colors = pd.read_csv("data/colors.csv")
colors.sample(19)


colors.name.nunique()








colors.groupby('is_trans').count()


colors.is_trans.value_counts()

















sets_df = pd.read_csv("data/sets.csv")
sets_df.head()


sets_df.sort_values("year")


first_year = sets_df[sets_df.year == 1949]
first_year











first_year.name





sets_df.sort_values('num_parts', ascending=False).head()





sets_df.groupby('year').count()


sets_by_year = sets_df.groupby('year').count()
sets_by_year





sets_by_year['set_num'].head()


plt.plot(sets_by_year.index[:-2], sets_by_year.set_num[:-2])





themes_by_year = sets_df.groupby('year').agg({'theme_id': pd.Series.nunique})



themes_by_year.rename(columns={'theme_id':'nr_themes'}, inplace=True)
themes_by_year.head()


themes_by_year.tail()





plt.plot(themes_by_year.index[:-2], themes_by_year[:-2])





ax1 = plt.gca()
ax2 = ax1.twinx() 

ax1.plot(sets_by_year.index[:-2], sets_by_year.set_num[:-2], color='g')
ax2.plot(themes_by_year.index[:-2], themes_by_year.nr_themes[:-2], color='b')
ax1.set_xlabel('Year')
ax1.set_ylabel('No of sets', color ='green')
ax2.set_ylabel('No of themes', color='blue')





parts_per_set = sets_df.groupby('year').agg({'num_parts':pd.Series.mean})
parts_per_set











plt.scatter(parts_per_set.index[:-2], parts_per_set.num_parts[:-2])








set_theme_count = sets_df["theme_id"].value_counts()
set_theme_count














themes = pd.read_csv("data/themes.csv")
themes.head()


themes[themes.name == "Star Wars"]


sets_df[sets_df.theme_id == 18]


sets_df[sets_df.theme_id == 209 ]


sets_theme_count = sets_df["theme_id"].value_counts()
sets_theme_count[:5]





sets_theme_count = pd.DataFrame({"id":sets_theme_count.index, "set_count": sets_theme_count.values})
sets_theme_count.head()


merged_df = pd.merge(sets_theme_count, themes, on='id')
merged_df[:3]


plt.bar(merged_df.name[:10], merged_df.set_count)



