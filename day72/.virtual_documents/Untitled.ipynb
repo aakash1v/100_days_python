import pandas as pd


df = pd.read_csv('salaries_by_college_major.csv')



df


df.head()



df.shape


df.columns


df.isna()


df.trail()


df.tail()


clean_df = df.dropna()
clean_df


clean_df['Starting Median Salary']



clean_df['Starting Median Salary'].max()


clean_df['Starting Median Salary'].idxmax()


clean_df['Undergraduate Major'].loc[43]



clean_df['Undergraduate Major'][43]


clean_df.loc[43]


df.loc[df['Mid-Career Median Salary'].idxmax()]


print(clean_df['Mid-Career Median Salary'].max())


clean_df['Undergraduate Major'][8]



clean_df['Undergraduate Major'].loc[clean_df['Starting Median Salary'].idxmin()]


clean_df.loc[clean_df['Mid-Career Median Salary'].idxmin()]


spread_col = clean_df['Mid-Career 90th Percentile Salary'] - clean_df['Mid-Career 10th Percentile Salary']


clean_df.insert(1, 'Spread', spread_col)


clean_df.head()


low_risk = clean_df.sort_values('Spread')



low_risk[['Undergraduate Major', 'Spread']].head()


highest_potential  = clean_df.sort_values('Mid-Career 90th Percentile Salary', ascending=False)


highest_potential.head()


highest_potential[['Mid-Career 90th Percentile Salary', 'Undergraduate Major']].head()


low_risk.tail()


highest_potential[['Undergraduate Major', 'Spread']].head()


highest_spread = clean_df.sort_values('Mid-Career Median Salary', ascending=False)


highest_spread[['Undergraduate Major', 'Mid-Career Median Salary']].head()


clean_df.groupby('Group').count()


clean_df.groupby('Group').sum()


print(clean_df.dtypes)



print(clean_df.groupby('Group').mean())


clean_df.tail()


clean_df = clean_df.fillna(0)  # Replace NaN with 0




