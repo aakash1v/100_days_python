











import pandas as pd
import plotly.express as px





# Show numeric output in decimal format e.g., 2.15
pd.options.display.float_format = '{:,.2f}'.format







df_apps = pd.read_csv('apps.csv')
df_apps.shape


df_apps.columns


df_apps.sample(10)


df_apps[df_apps.Category=='GAME'].sort_values('Installs', ascending=False)[:20]


columns_name = df_apps.columns[:-2]
df_apps_clean = df_apps[columns_name].dropna()
df_apps_clean


duplicated_rows = df_apps_clean[df_apps_clean.duplicated()]
print(duplicated_rows.shape)
duplicated_rows.head()


df_apps[df_apps.App == 'MouseMingle']


df_apps_clean = df_apps_clean.drop_duplicates(subset=["App", "Type", "Price"])
df_apps_clean.shape
























































df_apps_clean.sort_values('Rating', ascending=False).head()





df_apps_clean.sort_values('Size_MBs', ascending=False).head()









df_apps_clean.sort_values('Reviews', ascending=False).head(50)



ratings = df_apps_clean.Content_Rating.value_counts()
ratings





fig = px.pie(labels=ratings.index, values=ratings.values, names=ratings.index)

fig.update_traces(textposition='outside', textinfo='percent+label')
fig.show()


fig = px.pie(labels=ratings.index,
values=ratings.values,
title="Content Rating",
names=ratings.index,
hole=0.6,
)
fig.update_traces(textposition='inside', textfont_size=15, textinfo='percent')
 
fig.show()


fig = px.pie(labels=ratings.index, values=ratings.values, names=ratings.index)

fig.update_traces(textposition='outside', textinfo='percent+label')
fig.show()








df_apps_clean.Installs.describe()


df_apps_clean.info()


df_apps_clean[["App", "Installs"]].groupby('Installs').count()


df_apps_clean.Installs = df_apps_clean.Installs.astype(str).str.replace(",","")
df_apps_clean.Installs = pd.to_numeric(df_apps_clean.Installs)
df_apps_clean[["App", "Installs"]].groupby("Installs").count()








df_apps_clean.info()


df_apps_clean.Price = df_apps_clean.Price.astype(str).str.replace("$","")
df_apps_clean.Price = pd.to_numeric(df_apps_clean.Price)
df_apps_clean.sort_values("Price", ascending=False)[:10]





df_apps_clean = df_apps_clean[df_apps_clean.Price <250 ]
df_apps_clean.sort_values("Price", ascending=False).head(10)





df_apps_clean['Revenue_Estimate'] = df_apps_clean.Installs.mul(df_apps_clean.Price)
df_apps_clean.sort_values("Revenue_Estimate", ascending=False).head(10)





df_apps_clean.Category.nunique()


top10_category = df_apps_clean.Category.value_counts()[:10]


top10_category





bar = px.bar(x = top10_category.index, y=top10_category.values)
bar.show()


category_installs = df_apps_clean.groupby('Category').agg({"Installs":pd.Series.sum})
category_installs.sort_values('Installs', ascending=False, inplace=True)
category_installs





h_bar=px.bar(x =category_installs.Installs, y=category_installs.index, orientation='h')
h_bar.show()








category_app = df_apps_clean.groupby('Category').agg({'App': pd.Series.count})
cat_merged_df = pd.merge(category_app, category_installs, on='Category', how='inner')
cat_merged_df.shape
cat_merged_df.sort_values('Installs', ascending=False)


scatter = px.scatter(cat_merged_df, # data
                    x='App', # column name
                    y='Installs',
                    title='Category Concentration',
                    size='App',
                    hover_name=cat_merged_df.index,
                    color='Installs')
scatter.update_layout(xaxis_title="Number of Apps (Lower=More Concentrated)",
                      yaxis_title="Installs",
                      yaxis=dict(type='%log'))
 
scatter.show()





len(df_apps_clean.Genres.unique())


df_apps_clean.Genres.value_counts().sort_values()[:8]



















































